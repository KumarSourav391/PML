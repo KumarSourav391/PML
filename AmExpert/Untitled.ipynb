{
 "cells": [
  {
   "cell_type": "code",
   "execution_count": 1,
   "id": "463b0592-c87b-4221-b429-92c02e5a6869",
   "metadata": {},
   "outputs": [],
   "source": [
    "import pandas as pd\n",
    "from sklearn.tree import DecisionTreeClassifier, export_graphviz\n",
    "from sklearn.preprocessing import LabelEncoder\n",
    "from sklearn.metrics import accuracy_score\n",
    "import matplotlib.pyplot as plt\n",
    "import seaborn as sns\n",
    "import joblib"
   ]
  },
  {
   "cell_type": "code",
   "execution_count": 2,
   "id": "0e0884f3-7b02-4441-987b-c2b18197e370",
   "metadata": {},
   "outputs": [],
   "source": [
    "cust=pd.read_csv('train_go05W65.csv')"
   ]
  },
  {
   "cell_type": "code",
   "execution_count": 3,
   "id": "6fdad2a5-04f6-40c7-9a49-1e2ef713b2b9",
   "metadata": {},
   "outputs": [
    {
     "data": {
      "text/html": [
       "<div>\n",
       "<style scoped>\n",
       "    .dataframe tbody tr th:only-of-type {\n",
       "        vertical-align: middle;\n",
       "    }\n",
       "\n",
       "    .dataframe tbody tr th {\n",
       "        vertical-align: top;\n",
       "    }\n",
       "\n",
       "    .dataframe thead th {\n",
       "        text-align: right;\n",
       "    }\n",
       "</style>\n",
       "<table border=\"1\" class=\"dataframe\">\n",
       "  <thead>\n",
       "    <tr style=\"text-align: right;\">\n",
       "      <th></th>\n",
       "      <th>Customer_ID</th>\n",
       "      <th>Gender</th>\n",
       "      <th>Age</th>\n",
       "      <th>Vintage</th>\n",
       "      <th>Is_Active</th>\n",
       "      <th>City_Category</th>\n",
       "      <th>Customer_Category</th>\n",
       "      <th>Product_Holding_B1</th>\n",
       "      <th>Product_Holding_B2</th>\n",
       "    </tr>\n",
       "  </thead>\n",
       "  <tbody>\n",
       "    <tr>\n",
       "      <th>0</th>\n",
       "      <td>CC264719</td>\n",
       "      <td>Male</td>\n",
       "      <td>41</td>\n",
       "      <td>14</td>\n",
       "      <td>0</td>\n",
       "      <td>C1</td>\n",
       "      <td>S3</td>\n",
       "      <td>['P16']</td>\n",
       "      <td>['P8']</td>\n",
       "    </tr>\n",
       "    <tr>\n",
       "      <th>1</th>\n",
       "      <td>CC209679</td>\n",
       "      <td>Female</td>\n",
       "      <td>47</td>\n",
       "      <td>14</td>\n",
       "      <td>1</td>\n",
       "      <td>C1</td>\n",
       "      <td>S2</td>\n",
       "      <td>['P13', 'P20']</td>\n",
       "      <td>['P3']</td>\n",
       "    </tr>\n",
       "    <tr>\n",
       "      <th>2</th>\n",
       "      <td>CC319633</td>\n",
       "      <td>Female</td>\n",
       "      <td>59</td>\n",
       "      <td>14</td>\n",
       "      <td>0</td>\n",
       "      <td>C2</td>\n",
       "      <td>S2</td>\n",
       "      <td>['P11']</td>\n",
       "      <td>['P00']</td>\n",
       "    </tr>\n",
       "    <tr>\n",
       "      <th>3</th>\n",
       "      <td>CC231413</td>\n",
       "      <td>Female</td>\n",
       "      <td>32</td>\n",
       "      <td>16</td>\n",
       "      <td>0</td>\n",
       "      <td>C1</td>\n",
       "      <td>S2</td>\n",
       "      <td>['P8', 'P13']</td>\n",
       "      <td>['P6']</td>\n",
       "    </tr>\n",
       "    <tr>\n",
       "      <th>4</th>\n",
       "      <td>CC259633</td>\n",
       "      <td>Male</td>\n",
       "      <td>30</td>\n",
       "      <td>15</td>\n",
       "      <td>0</td>\n",
       "      <td>C2</td>\n",
       "      <td>S3</td>\n",
       "      <td>['P16', 'P17', 'P21']</td>\n",
       "      <td>['P8', 'P12']</td>\n",
       "    </tr>\n",
       "  </tbody>\n",
       "</table>\n",
       "</div>"
      ],
      "text/plain": [
       "  Customer_ID  Gender  Age  Vintage  Is_Active City_Category  \\\n",
       "0    CC264719    Male   41       14          0            C1   \n",
       "1    CC209679  Female   47       14          1            C1   \n",
       "2    CC319633  Female   59       14          0            C2   \n",
       "3    CC231413  Female   32       16          0            C1   \n",
       "4    CC259633    Male   30       15          0            C2   \n",
       "\n",
       "  Customer_Category     Product_Holding_B1 Product_Holding_B2  \n",
       "0                S3                ['P16']             ['P8']  \n",
       "1                S2         ['P13', 'P20']             ['P3']  \n",
       "2                S2                ['P11']            ['P00']  \n",
       "3                S2          ['P8', 'P13']             ['P6']  \n",
       "4                S3  ['P16', 'P17', 'P21']      ['P8', 'P12']  "
      ]
     },
     "execution_count": 3,
     "metadata": {},
     "output_type": "execute_result"
    }
   ],
   "source": [
    "cust.head()"
   ]
  },
  {
   "cell_type": "code",
   "execution_count": 4,
   "id": "57745fbb-5ab1-48af-ac58-a0c515976dde",
   "metadata": {},
   "outputs": [
    {
     "data": {
      "text/plain": [
       "Customer_ID           object\n",
       "Gender                object\n",
       "Age                    int64\n",
       "Vintage                int64\n",
       "Is_Active              int64\n",
       "City_Category         object\n",
       "Customer_Category     object\n",
       "Product_Holding_B1    object\n",
       "Product_Holding_B2    object\n",
       "dtype: object"
      ]
     },
     "execution_count": 4,
     "metadata": {},
     "output_type": "execute_result"
    }
   ],
   "source": [
    "cust.dtypes"
   ]
  },
  {
   "cell_type": "code",
   "execution_count": 5,
   "id": "c2dbcabb-4b4a-4759-ae45-2a57b6b73b61",
   "metadata": {},
   "outputs": [
    {
     "data": {
      "text/html": [
       "<div>\n",
       "<style scoped>\n",
       "    .dataframe tbody tr th:only-of-type {\n",
       "        vertical-align: middle;\n",
       "    }\n",
       "\n",
       "    .dataframe tbody tr th {\n",
       "        vertical-align: top;\n",
       "    }\n",
       "\n",
       "    .dataframe thead th {\n",
       "        text-align: right;\n",
       "    }\n",
       "</style>\n",
       "<table border=\"1\" class=\"dataframe\">\n",
       "  <thead>\n",
       "    <tr style=\"text-align: right;\">\n",
       "      <th></th>\n",
       "      <th>Age</th>\n",
       "      <th>Vintage</th>\n",
       "      <th>Is_Active</th>\n",
       "    </tr>\n",
       "  </thead>\n",
       "  <tbody>\n",
       "    <tr>\n",
       "      <th>count</th>\n",
       "      <td>37748.000000</td>\n",
       "      <td>37748.000000</td>\n",
       "      <td>37748.000000</td>\n",
       "    </tr>\n",
       "    <tr>\n",
       "      <th>mean</th>\n",
       "      <td>38.521379</td>\n",
       "      <td>19.573169</td>\n",
       "      <td>0.264809</td>\n",
       "    </tr>\n",
       "    <tr>\n",
       "      <th>std</th>\n",
       "      <td>10.121811</td>\n",
       "      <td>10.252417</td>\n",
       "      <td>0.441237</td>\n",
       "    </tr>\n",
       "    <tr>\n",
       "      <th>min</th>\n",
       "      <td>24.000000</td>\n",
       "      <td>2.000000</td>\n",
       "      <td>0.000000</td>\n",
       "    </tr>\n",
       "    <tr>\n",
       "      <th>25%</th>\n",
       "      <td>29.000000</td>\n",
       "      <td>13.000000</td>\n",
       "      <td>0.000000</td>\n",
       "    </tr>\n",
       "    <tr>\n",
       "      <th>50%</th>\n",
       "      <td>37.000000</td>\n",
       "      <td>16.000000</td>\n",
       "      <td>0.000000</td>\n",
       "    </tr>\n",
       "    <tr>\n",
       "      <th>75%</th>\n",
       "      <td>47.000000</td>\n",
       "      <td>23.000000</td>\n",
       "      <td>1.000000</td>\n",
       "    </tr>\n",
       "    <tr>\n",
       "      <th>max</th>\n",
       "      <td>59.000000</td>\n",
       "      <td>65.000000</td>\n",
       "      <td>1.000000</td>\n",
       "    </tr>\n",
       "  </tbody>\n",
       "</table>\n",
       "</div>"
      ],
      "text/plain": [
       "                Age       Vintage     Is_Active\n",
       "count  37748.000000  37748.000000  37748.000000\n",
       "mean      38.521379     19.573169      0.264809\n",
       "std       10.121811     10.252417      0.441237\n",
       "min       24.000000      2.000000      0.000000\n",
       "25%       29.000000     13.000000      0.000000\n",
       "50%       37.000000     16.000000      0.000000\n",
       "75%       47.000000     23.000000      1.000000\n",
       "max       59.000000     65.000000      1.000000"
      ]
     },
     "execution_count": 5,
     "metadata": {},
     "output_type": "execute_result"
    }
   ],
   "source": [
    "cust.describe() "
   ]
  },
  {
   "cell_type": "code",
   "execution_count": 6,
   "id": "3ce8d683-c3d5-4e2b-9e58-038ea98bab73",
   "metadata": {},
   "outputs": [
    {
     "data": {
      "text/plain": [
       "Customer_ID           0\n",
       "Gender                0\n",
       "Age                   0\n",
       "Vintage               0\n",
       "Is_Active             0\n",
       "City_Category         0\n",
       "Customer_Category     0\n",
       "Product_Holding_B1    0\n",
       "Product_Holding_B2    0\n",
       "dtype: int64"
      ]
     },
     "execution_count": 6,
     "metadata": {},
     "output_type": "execute_result"
    }
   ],
   "source": [
    "cust.isnull().sum()"
   ]
  },
  {
   "cell_type": "code",
   "execution_count": 7,
   "id": "183ca154-c58d-4325-a8a0-efe22cc05a0d",
   "metadata": {},
   "outputs": [
    {
     "data": {
      "text/plain": [
       "CC363036    1\n",
       "CC271957    1\n",
       "CC379563    1\n",
       "CC286805    1\n",
       "CC235430    1\n",
       "           ..\n",
       "CC262908    1\n",
       "CC222027    1\n",
       "CC245051    1\n",
       "CC249812    1\n",
       "CC298683    1\n",
       "Name: Customer_ID, Length: 37748, dtype: int64"
      ]
     },
     "execution_count": 7,
     "metadata": {},
     "output_type": "execute_result"
    }
   ],
   "source": [
    "cust.Customer_ID.value_counts() "
   ]
  },
  {
   "cell_type": "code",
   "execution_count": 8,
   "id": "504c39b4-f26a-4ec8-b555-afc8aa4c99f8",
   "metadata": {},
   "outputs": [
    {
     "data": {
      "text/plain": [
       "Customer_ID           37748\n",
       "Gender                    2\n",
       "Age                      36\n",
       "Vintage                  64\n",
       "Is_Active                 2\n",
       "City_Category             2\n",
       "Customer_Category         3\n",
       "Product_Holding_B1      617\n",
       "Product_Holding_B2      495\n",
       "dtype: int64"
      ]
     },
     "execution_count": 8,
     "metadata": {},
     "output_type": "execute_result"
    }
   ],
   "source": [
    "cust.nunique()"
   ]
  },
  {
   "cell_type": "code",
   "execution_count": null,
   "id": "a50c0079-7767-4548-bed6-0041944b6b4e",
   "metadata": {},
   "outputs": [],
   "source": []
  }
 ],
 "metadata": {
  "kernelspec": {
   "display_name": "Python 3",
   "language": "python",
   "name": "python3"
  },
  "language_info": {
   "codemirror_mode": {
    "name": "ipython",
    "version": 3
   },
   "file_extension": ".py",
   "mimetype": "text/x-python",
   "name": "python",
   "nbconvert_exporter": "python",
   "pygments_lexer": "ipython3",
   "version": "3.8.8"
  }
 },
 "nbformat": 4,
 "nbformat_minor": 5
}
